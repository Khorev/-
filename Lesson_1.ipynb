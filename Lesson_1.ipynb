{
 "cells": [
  {
   "cell_type": "markdown",
   "id": "1835e227",
   "metadata": {},
   "source": [
    "1. Посмотреть документацию к API GitHub, разобраться как вывести список репозиториев для конкретного пользователя, сохранить JSON-вывод в файле *.json."
   ]
  },
  {
   "cell_type": "code",
   "execution_count": 15,
   "id": "68b991e8",
   "metadata": {},
   "outputs": [],
   "source": [
    "import requests\n",
    "import json"
   ]
  },
  {
   "cell_type": "code",
   "execution_count": 17,
   "id": "ec9f2329",
   "metadata": {},
   "outputs": [],
   "source": [
    "user_name = 'Khorev'"
   ]
  },
  {
   "cell_type": "code",
   "execution_count": 19,
   "id": "c32c2bbb",
   "metadata": {},
   "outputs": [],
   "source": [
    "url = f'https://api.github.com/users/Khorev/repos'"
   ]
  },
  {
   "cell_type": "code",
   "execution_count": 20,
   "id": "3650a737",
   "metadata": {},
   "outputs": [],
   "source": [
    "response = requests.get(url)"
   ]
  },
  {
   "cell_type": "code",
   "execution_count": 21,
   "id": "93ef159d",
   "metadata": {},
   "outputs": [],
   "source": [
    "with open('repos.json', 'w', encoding='utf8') as f:\n",
    "    json.dump(response.json(), f)"
   ]
  }
 ],
 "metadata": {
  "kernelspec": {
   "display_name": "Python 3 (ipykernel)",
   "language": "python",
   "name": "python3"
  },
  "language_info": {
   "codemirror_mode": {
    "name": "ipython",
    "version": 3
   },
   "file_extension": ".py",
   "mimetype": "text/x-python",
   "name": "python",
   "nbconvert_exporter": "python",
   "pygments_lexer": "ipython3",
   "version": "3.9.12"
  }
 },
 "nbformat": 4,
 "nbformat_minor": 5
}
